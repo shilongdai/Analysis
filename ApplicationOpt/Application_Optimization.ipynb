{
 "cells": [
  {
   "cell_type": "markdown",
   "id": "91e5fd84",
   "metadata": {},
   "source": [
    "# Application Optimization"
   ]
  },
  {
   "cell_type": "markdown",
   "id": "7cfdcb38",
   "metadata": {},
   "source": [
    "## Description\n",
    "\n",
    "The goal is to optimize the decision of applying to something like universities, positions, jobs etc. In these situations, there are multiple options, but in the end only one can be chosen. Thus, in the end, regardless of which universities, positions, or jobs that someone had applied to, the only one that matters is the one which the person chooses to accept. Hence, it is a different class of problem than the ones commonly considered, such as stock selection."
   ]
  },
  {
   "cell_type": "markdown",
   "id": "9edf126f",
   "metadata": {},
   "source": [
    "## Assumptions\n",
    "The following assumptions are made regarding the nature of the problem:\n",
    "- The preference of the person for the position can be captured adequately by reward or utility. That is, the preference of the person can be reduced to a number and its associated operations. To this end, the most fitting way of setting the reward may be to associate the positions with monetary values.\n",
    "- The acceptence of an application to a position is independent from the other positions. That is, getting accepted to a position depends only on the position and the application. This may or may not be a reasonable assumption depending on context. However, if there are no mutual relations or sharing of informations between the reviewers for a given position, then assuming independence should not cause significant issue.\n",
    "- The cost of applying to a position is negligible comparing to its reward. For most applications, this would be a reasonable assumption, since filling out forms are not comparable to getting a degree from a university for instance. In any case, the reward can be adjusted to reflect the cost of applications if needed."
   ]
  },
  {
   "cell_type": "markdown",
   "id": "f59836a7",
   "metadata": {},
   "source": [
    "## Derivation"
   ]
  },
  {
   "cell_type": "markdown",
   "id": "fcc6cb4b",
   "metadata": {},
   "source": [
    "### Problem Setup\n",
    "\n",
    "Let $N$ be the number of candidate positions that can be applied to.\n",
    "\n",
    "Let $M$ be the number of applications that can be submitted.\n",
    "\n",
    "Let $L \\in \\mathbb{R}_+^N$ be the reward vector associated with the $N$ candidates sorted ascending.\n",
    "\n",
    "Let $X \\in \\{0, 1\\}^N$ be the decision vector representing to which positions are the applications submitted.\n",
    "\n",
    "Let $T \\in \\{0, 1\\}^N$ be the state representation indicating which positions would be willing to accept if applied to.\n",
    "\n",
    "Let $P \\in [0, 1]^N$ be the probabibilities of being accepted by a position if applied.\n"
   ]
  },
  {
   "cell_type": "markdown",
   "id": "8cb03bfd",
   "metadata": {},
   "source": [
    "### Decision Rule and Rewards\n",
    "\n",
    "The decision rule under consideration is to apply to the positions and then choose the best one accepted. The decision itself involved a fixed vector of positions to apply to. The choice is deterministic, so the reward function is:$$R(X, T) = max(0, L_1X_1T_1, L_2X_2T_2,...,L_NX_NT_N)$$\n",
    "\n",
    "Then, considering the prior probabilities of being accepted by the positions, the Bayes reward function is:\n",
    "$$\\mathbb{E}[R(X, T)]=\\mathbb{E}[max(0, L_1X_1T_1, L_2X_2T_2,...,L_NX_NT_N)]=\\mathbb{E}[\\mathbb{E}[max(0, L_1X_1T_1, L_2X_2T_2,...,L_NX_NT_N)| I]]$$\n",
    "\n",
    "Where $I$ is the RV indicating the index of the last term that equals the max value.\n",
    "\n",
    "Evaluating the expectation:\n",
    "$$\\mathbb{E}[\\mathbb{E}[max(0, L_1X_1T_1, L_2X_2T_2,...,L_NX_NT_N)| I]]=\\sum_{i=1}^N X_iT_iL_iP(I=i)$$\n",
    "Since the $L$ is ordered ascending, the ith term is the last term identical to the max iff the terms after it are 0, and the term itself is non-zero. Thus, $$P(I=i) = X_iP_i P(L_jX_jT_J = 0 : j > i)$$\n",
    "\n",
    "Since the acceptances are independent,\n",
    "$$P(L_jX_jT_j = 0 : j > i) = \\prod_{j>i} P(X_jT_j = 0)=\\prod_{j>i} (1-X_j)+X_j(1-P_j)=\\prod_{j>i} 1-X_jP_j$$\n",
    "\n",
    "Thus,\n",
    "$$\\mathbb{E}[\\mathbb{E}[max(L_0X_0T_0, L_1X_1T_1, L_2X_2T_2,...,L_NX_NT_N)| I]]= \\sum_{i=1}^N [L_iX_iP_i\\prod_{j>i} (1-X_jP_j)]$$"
   ]
  },
  {
   "cell_type": "markdown",
   "id": "1b5dae2d",
   "metadata": {},
   "source": [
    "## The Model"
   ]
  },
  {
   "cell_type": "markdown",
   "id": "8e2fb4d3",
   "metadata": {},
   "source": [
    "### Formulation\n",
    "\n",
    "Using the Bayes reward as the objective function, and noting that there can be at most $M$ applications, the description of the problem becomes:\n",
    "$$maximize \\sum_{i=1}^N [L_iX_iP_i\\prod_{j>i} (1-X_jP_j)]$$\n",
    "\n",
    "subject to:\n",
    "$$ \\sum_{i=1}^N X_i = M$$"
   ]
  },
  {
   "cell_type": "markdown",
   "id": "59fa17d5",
   "metadata": {},
   "source": [
    "### Code"
   ]
  },
  {
   "cell_type": "code",
   "execution_count": 16,
   "id": "d1518ead",
   "metadata": {},
   "outputs": [],
   "source": [
    "import pyomo.environ as pyo\n",
    "\n",
    "model = pyo.AbstractModel()\n",
    "model.m = pyo.Param(within=pyo.PositiveIntegers, default=3)\n",
    "model.n = pyo.Param(within=pyo.PositiveIntegers, default=3)\n",
    "model.N = pyo.RangeSet(1, model.n)\n",
    "model.L = pyo.Param(model.N, within=pyo.PositiveReals)\n",
    "model.P = pyo.Param(model.N, within=pyo.PercentFraction)\n",
    "model.x = pyo.Var(model.N, within=pyo.Binary)\n",
    "\n",
    "\n",
    "def rest_zero(current, model):\n",
    "    result = 1\n",
    "    for j in range(current + 1, model.n.value + 1):\n",
    "        result = (1 - model.x[j] * model.P[j]) * result\n",
    "    return result\n",
    "\n",
    "\n",
    "def reward_(model):\n",
    "    return sum([model.L[i] * model.x[i] * model.P[i] * rest_zero(i, model) for i in model.N])\n",
    "\n",
    "\n",
    "model.reward = pyo.Objective(rule=reward_, sense=pyo.maximize)\n",
    "\n",
    "\n",
    "def limit_(model):\n",
    "    return pyo.summation(model.x) == model.m\n",
    "\n",
    "\n",
    "model.limit = pyo.Constraint(rule=limit_)"
   ]
  },
  {
   "cell_type": "markdown",
   "id": "8affa090",
   "metadata": {},
   "source": [
    "Instantiating with test data:"
   ]
  },
  {
   "cell_type": "code",
   "execution_count": 21,
   "id": "866f9683",
   "metadata": {},
   "outputs": [
    {
     "name": "stdout",
     "output_type": "stream",
     "text": [
      "1 RangeSet Declarations\n",
      "    N : Dimen=1, Size=6, Bounds=(1, 6)\n",
      "        Key  : Finite : Members\n",
      "        None :   True :   [1:6]\n",
      "\n",
      "4 Param Declarations\n",
      "    L : Size=6, Index=N, Domain=PositiveReals, Default=None, Mutable=False\n",
      "        Key : Value\n",
      "          1 :    10\n",
      "          2 :    13\n",
      "          3 :    15\n",
      "          4 :    50\n",
      "          5 :   100\n",
      "          6 :   200\n",
      "    P : Size=6, Index=N, Domain=PercentFraction, Default=None, Mutable=False\n",
      "        Key : Value\n",
      "          1 :   0.9\n",
      "          2 :   0.8\n",
      "          3 :   0.8\n",
      "          4 :   0.4\n",
      "          5 :   0.1\n",
      "          6 :  0.05\n",
      "    m : Size=1, Index=None, Domain=PositiveIntegers, Default=3, Mutable=False\n",
      "        Key  : Value\n",
      "        None :     2\n",
      "    n : Size=1, Index=None, Domain=PositiveIntegers, Default=3, Mutable=False\n",
      "        Key  : Value\n",
      "        None :     6\n",
      "\n",
      "1 Var Declarations\n",
      "    x : Size=6, Index=N\n",
      "        Key : Lower : Value : Upper : Fixed : Stale : Domain\n",
      "          1 :     0 :  None :     1 : False :  True : Binary\n",
      "          2 :     0 :  None :     1 : False :  True : Binary\n",
      "          3 :     0 :  None :     1 : False :  True : Binary\n",
      "          4 :     0 :  None :     1 : False :  True : Binary\n",
      "          5 :     0 :  None :     1 : False :  True : Binary\n",
      "          6 :     0 :  None :     1 : False :  True : Binary\n",
      "\n",
      "1 Objective Declarations\n",
      "    reward : Size=1, Index=None, Active=True\n",
      "        Key  : Active : Sense    : Expression\n",
      "        None :   True : maximize : 9.0*x[1]*((1 - 0.05*x[6])*((1 - 0.1*x[5])*((1 - 0.4*x[4])*((1 - 0.8*x[3])*(1 - 0.8*x[2]))))) + 10.4*x[2]*((1 - 0.05*x[6])*((1 - 0.1*x[5])*((1 - 0.4*x[4])*(1 - 0.8*x[3])))) + 12.0*x[3]*((1 - 0.05*x[6])*((1 - 0.1*x[5])*(1 - 0.4*x[4]))) + 20.0*x[4]*((1 - 0.05*x[6])*(1 - 0.1*x[5])) + 10.0*x[5]*(1 - 0.05*x[6]) + 10.0*x[6]\n",
      "\n",
      "1 Constraint Declarations\n",
      "    limit : Size=1, Index=None, Active=True\n",
      "        Key  : Lower : Body                                    : Upper : Active\n",
      "        None :   2.0 : x[1] + x[2] + x[3] + x[4] + x[5] + x[6] :   2.0 :   True\n",
      "\n",
      "8 Declarations: m n N L P x reward limit\n"
     ]
    }
   ],
   "source": [
    "data = {None: {\n",
    "        \"n\": {None: 6},\n",
    "        \"m\": {None: 2},\n",
    "        \"L\": {1: 10, 2: 13, 3: 15, 4: 50, 5: 100, 6: 200},\n",
    "        \"P\": {1: 0.9, 2: 0.8, 3: 0.8, 4: 0.4, 5: 0.1, 6: 0.05}\n",
    "    }\n",
    "}\n",
    "\n",
    "instance = model.create_instance(data)\n",
    "instance.pprint()"
   ]
  },
  {
   "cell_type": "code",
   "execution_count": 22,
   "id": "81fbaf1c",
   "metadata": {},
   "outputs": [
    {
     "name": "stdout",
     "output_type": "stream",
     "text": [
      "x : Size=6, Index=N\n",
      "    Key : Lower : Value : Upper : Fixed : Stale : Domain\n",
      "      1 :     0 :   0.0 :     1 : False : False : Binary\n",
      "      2 :     0 :   0.0 :     1 : False : False : Binary\n",
      "      3 :     0 :   0.0 :     1 : False : False : Binary\n",
      "      4 :     0 :   1.0 :     1 : False : False : Binary\n",
      "      5 :     0 :   0.0 :     1 : False : False : Binary\n",
      "      6 :     0 :   1.0 :     1 : False : False : Binary\n",
      "Reward: 29.0\n"
     ]
    }
   ],
   "source": [
    "opt = pyo.SolverFactory(\"couenne\")\n",
    "opt.solve(instance)\n",
    "instance.x.pprint()\n",
    "print(\"Reward: \" + str(instance.reward()))"
   ]
  },
  {
   "cell_type": "markdown",
   "id": "4348fe7e",
   "metadata": {},
   "source": [
    "## Discussion\n",
    "The problem is integer non-linear, and does not fit into quadratic or bi-linear programming. Due to the expectation of the maximum, the objective function would contain the products of the variable with each other. Since all of the variables are binary, it is not convex. Thus, the decision version of the problem for the feasibility of a lower bound is likely to be NP-hard. It is obvious that there are $2^N$ states in the problem, so an enumeration algorithm checking every state would have the complexity $O(2^N)$ in the number of positions to consider. Given that a person would likely not apply to a large number of position (say beyond 50), it would be sufficient for most uses. However, there may be other formulations or techniques that admits of a faster algorithm. \n",
    "\n",
    "Since the problem of applying to positions, universities, or jobs etc are commonplace in daily life, it is a very practical application. In the context of making decisions with limited opportunities to apply to positions, this can be useful as a tool to guide the selection. Additionaly, since the state is encoded via a vector of bernoulli RVs, more sophisticated domain-based hierarchical models can be built to assign the probabilities for the bernoulli variables. Then, the current solution can be part of a larger model that can lead to better decisions. Finally, there are cases where the independence assumption for the positions do not hold. In these cases, the current formulation may provide some guidance, but more sophisticated model allowing for dependence relations between acceptence to positions would be required."
   ]
  }
 ],
 "metadata": {
  "kernelspec": {
   "display_name": "Python 3 (ipykernel)",
   "language": "python",
   "name": "python3"
  },
  "language_info": {
   "codemirror_mode": {
    "name": "ipython",
    "version": 3
   },
   "file_extension": ".py",
   "mimetype": "text/x-python",
   "name": "python",
   "nbconvert_exporter": "python",
   "pygments_lexer": "ipython3",
   "version": "3.10.1"
  }
 },
 "nbformat": 4,
 "nbformat_minor": 5
}