{
 "cells": [
  {
   "cell_type": "code",
   "execution_count": 1,
   "id": "initial_id",
   "metadata": {
    "ExecuteTime": {
     "end_time": "2023-08-12T14:18:53.999426Z",
     "start_time": "2023-08-12T14:18:53.287262Z"
    },
    "tags": []
   },
   "outputs": [],
   "source": [
    "import random\n",
    "import numpy as np\n",
    "import pandas as pd\n",
    "import json\n",
    "\n",
    "SEED = 93\n",
    "np.random.seed(SEED)\n",
    "random.seed(SEED)"
   ]
  },
  {
   "cell_type": "markdown",
   "id": "fece69f2cacaa774",
   "metadata": {},
   "source": [
    "The following code segment was used to do a random sample without using too much memory."
   ]
  },
  {
   "cell_type": "code",
   "execution_count": 2,
   "id": "940943f4-6abb-483f-9fd3-1d3833b7b8b3",
   "metadata": {},
   "outputs": [
    {
     "data": {
      "text/plain": [
       "1000385"
      ]
     },
     "execution_count": 2,
     "metadata": {},
     "output_type": "execute_result"
    }
   ],
   "source": [
    "yelp_reviews_raw = []\n",
    "sample_count = 1000000\n",
    "\n",
    "with open(\"yelp_academic_dataset_review.json\", \"r\") as fp:\n",
    "    full_size = sum([1 for _ in fp])\n",
    "    sample_p = sample_count / full_size\n",
    "    fp.seek(0)\n",
    "    for entry in fp:\n",
    "        if random.random() <= sample_p:\n",
    "            yelp_reviews_raw.append(json.loads(entry))\n",
    "\n",
    "yelp_reviews_sampled = pd.DataFrame(yelp_reviews_raw)\n",
    "len(yelp_reviews_sampled.index)"
   ]
  },
  {
   "cell_type": "code",
   "execution_count": 3,
   "id": "19188fac45f0ca67",
   "metadata": {
    "ExecuteTime": {
     "end_time": "2023-08-12T14:18:54.152909Z",
     "start_time": "2023-08-12T14:18:53.973641Z"
    },
    "collapsed": false,
    "jupyter": {
     "outputs_hidden": false
    }
   },
   "outputs": [
    {
     "data": {
      "text/html": [
       "<div>\n",
       "<style scoped>\n",
       "    .dataframe tbody tr th:only-of-type {\n",
       "        vertical-align: middle;\n",
       "    }\n",
       "\n",
       "    .dataframe tbody tr th {\n",
       "        vertical-align: top;\n",
       "    }\n",
       "\n",
       "    .dataframe thead th {\n",
       "        text-align: right;\n",
       "    }\n",
       "</style>\n",
       "<table border=\"1\" class=\"dataframe\">\n",
       "  <thead>\n",
       "    <tr style=\"text-align: right;\">\n",
       "      <th></th>\n",
       "      <th>review_id</th>\n",
       "      <th>user_id</th>\n",
       "      <th>business_id</th>\n",
       "      <th>stars</th>\n",
       "      <th>useful</th>\n",
       "      <th>funny</th>\n",
       "      <th>cool</th>\n",
       "      <th>text</th>\n",
       "      <th>date</th>\n",
       "    </tr>\n",
       "  </thead>\n",
       "  <tbody>\n",
       "    <tr>\n",
       "      <th>0</th>\n",
       "      <td>Sx8TMOWLNuJBWer-0pcmoA</td>\n",
       "      <td>bcjbaE6dDog4jkNY91ncLQ</td>\n",
       "      <td>e4Vwtrqf-wpJfwesgvdgxQ</td>\n",
       "      <td>4.0</td>\n",
       "      <td>1</td>\n",
       "      <td>0</td>\n",
       "      <td>1</td>\n",
       "      <td>Cute interior and owner (?) gave us tour of up...</td>\n",
       "      <td>2017-01-14 20:54:15</td>\n",
       "    </tr>\n",
       "    <tr>\n",
       "      <th>1</th>\n",
       "      <td>_ZeMknuYdlQcUqng_Im3yg</td>\n",
       "      <td>yfFzsLmaWF2d4Sr0UNbBgg</td>\n",
       "      <td>LHSTtnW3YHCeUkRDGyJOyw</td>\n",
       "      <td>5.0</td>\n",
       "      <td>2</td>\n",
       "      <td>0</td>\n",
       "      <td>0</td>\n",
       "      <td>Amazingly amazing wings and homemade bleu chee...</td>\n",
       "      <td>2015-08-07 02:29:16</td>\n",
       "    </tr>\n",
       "    <tr>\n",
       "      <th>2</th>\n",
       "      <td>pUycOfUwM8vqX7KjRRhUEA</td>\n",
       "      <td>59MxRhNVhU9MYndMkz0wtw</td>\n",
       "      <td>gebiRewfieSdtt17PTW6Zg</td>\n",
       "      <td>3.0</td>\n",
       "      <td>0</td>\n",
       "      <td>0</td>\n",
       "      <td>0</td>\n",
       "      <td>Had a party of 6 here for hibachi. Our waitres...</td>\n",
       "      <td>2016-07-25 07:31:06</td>\n",
       "    </tr>\n",
       "    <tr>\n",
       "      <th>3</th>\n",
       "      <td>l3Wk_mvAog6XANIuGQ9C7Q</td>\n",
       "      <td>ZbqSHbgCjzVAqaa7NKWn5A</td>\n",
       "      <td>EQ-TZ2eeD_E0BHuvoaeG5Q</td>\n",
       "      <td>4.0</td>\n",
       "      <td>0</td>\n",
       "      <td>0</td>\n",
       "      <td>0</td>\n",
       "      <td>Locals recommended Milktooth, and it's an amaz...</td>\n",
       "      <td>2015-08-19 14:31:45</td>\n",
       "    </tr>\n",
       "    <tr>\n",
       "      <th>4</th>\n",
       "      <td>z0osLHDvXvzfm57D4DmD2Q</td>\n",
       "      <td>xVKE_HJ2pwUtTdLbL3pnCg</td>\n",
       "      <td>S2Ho8yLxhKAa26pBAm6rxA</td>\n",
       "      <td>3.0</td>\n",
       "      <td>0</td>\n",
       "      <td>0</td>\n",
       "      <td>0</td>\n",
       "      <td>Service was crappy, and food was mediocre.  I ...</td>\n",
       "      <td>2016-11-22 00:22:53</td>\n",
       "    </tr>\n",
       "  </tbody>\n",
       "</table>\n",
       "</div>"
      ],
      "text/plain": [
       "                review_id                 user_id             business_id  \\\n",
       "0  Sx8TMOWLNuJBWer-0pcmoA  bcjbaE6dDog4jkNY91ncLQ  e4Vwtrqf-wpJfwesgvdgxQ   \n",
       "1  _ZeMknuYdlQcUqng_Im3yg  yfFzsLmaWF2d4Sr0UNbBgg  LHSTtnW3YHCeUkRDGyJOyw   \n",
       "2  pUycOfUwM8vqX7KjRRhUEA  59MxRhNVhU9MYndMkz0wtw  gebiRewfieSdtt17PTW6Zg   \n",
       "3  l3Wk_mvAog6XANIuGQ9C7Q  ZbqSHbgCjzVAqaa7NKWn5A  EQ-TZ2eeD_E0BHuvoaeG5Q   \n",
       "4  z0osLHDvXvzfm57D4DmD2Q  xVKE_HJ2pwUtTdLbL3pnCg  S2Ho8yLxhKAa26pBAm6rxA   \n",
       "\n",
       "   stars  useful  funny  cool  \\\n",
       "0    4.0       1      0     1   \n",
       "1    5.0       2      0     0   \n",
       "2    3.0       0      0     0   \n",
       "3    4.0       0      0     0   \n",
       "4    3.0       0      0     0   \n",
       "\n",
       "                                                text                 date  \n",
       "0  Cute interior and owner (?) gave us tour of up...  2017-01-14 20:54:15  \n",
       "1  Amazingly amazing wings and homemade bleu chee...  2015-08-07 02:29:16  \n",
       "2  Had a party of 6 here for hibachi. Our waitres...  2016-07-25 07:31:06  \n",
       "3  Locals recommended Milktooth, and it's an amaz...  2015-08-19 14:31:45  \n",
       "4  Service was crappy, and food was mediocre.  I ...  2016-11-22 00:22:53  "
      ]
     },
     "execution_count": 3,
     "metadata": {},
     "output_type": "execute_result"
    }
   ],
   "source": [
    "yelp_reviews_sampled.head()"
   ]
  },
  {
   "cell_type": "code",
   "execution_count": 4,
   "id": "fd74549765a2194a",
   "metadata": {
    "ExecuteTime": {
     "end_time": "2023-08-12T14:18:54.516243Z",
     "start_time": "2023-08-12T14:18:54.145344Z"
    },
    "collapsed": false,
    "jupyter": {
     "outputs_hidden": false
    }
   },
   "outputs": [
    {
     "data": {
      "image/png": "[encoded data removed]",
      "text/plain": [
       "<Figure size 640x480 with 1 Axes>"
      ]
     },
     "metadata": {},
     "output_type": "display_data"
    }
   ],
   "source": [
    "import matplotlib.pyplot as plt\n",
    "\n",
    "ratings_summary = yelp_reviews_sampled[\"stars\"].value_counts()\n",
    "ratings_summary.plot.bar()\n",
    "plt.title(\"Summary of Ratings Count\")\n",
    "plt.ylabel(\"Count\")\n",
    "plt.xlabel(\"Stars\")\n",
    "plt.show()"
   ]
  },
  {
   "cell_type": "code",
   "execution_count": 5,
   "id": "1c74f5728e2329ea",
   "metadata": {
    "ExecuteTime": {
     "end_time": "2023-08-12T14:19:07.096004Z",
     "start_time": "2023-08-12T14:18:54.505546Z"
    },
    "collapsed": false,
    "jupyter": {
     "outputs_hidden": false
    }
   },
   "outputs": [
    {
     "data": {
      "application/vnd.jupyter.widget-view+json": {
       "model_id": "685be9e8b7f24f1b99b6815cd514f523",
       "version_major": 2,
       "version_minor": 0
      },
      "text/plain": [
       "Map:   0%|          | 0/1000385 [00:00<?, ? examples/s]"
      ]
     },
     "metadata": {},
     "output_type": "display_data"
    },
    {
     "data": {
      "text/plain": [
       "Dataset({\n",
       "    features: ['text', 'label', 'input_ids', 'attention_mask'],\n",
       "    num_rows: 1000385\n",
       "})"
      ]
     },
     "execution_count": 5,
     "metadata": {},
     "output_type": "execute_result"
    }
   ],
   "source": [
    "from datasets import Dataset\n",
    "from transformers import AutoTokenizer\n",
    "\n",
    "yelp_reviews_sampled[\"stars\"] = yelp_reviews_sampled.stars.apply(lambda x: int(x) - 1)\n",
    "yelp_reviews_sampled = yelp_reviews_sampled.rename(columns={\"stars\": \"label\"})\n",
    "yelp_dicts = yelp_reviews_sampled[[\"text\", \"label\"]].to_dict(\"records\")\n",
    "\n",
    "tokenizer = AutoTokenizer.from_pretrained(\"distilbert-base-uncased\")\n",
    "yelp_dataset = Dataset.from_list(yelp_dicts).map(lambda x: tokenizer(x[\"text\"], truncation=True), \n",
    "                                                 batched=True)\n",
    "yelp_dataset"
   ]
  },
  {
   "cell_type": "code",
   "execution_count": 6,
   "id": "2491dc9485814f29",
   "metadata": {
    "ExecuteTime": {
     "end_time": "2023-08-12T14:19:07.110975Z",
     "start_time": "2023-08-12T14:19:07.093277Z"
    },
    "collapsed": false,
    "jupyter": {
     "outputs_hidden": false
    }
   },
   "outputs": [
    {
     "data": {
      "text/plain": [
       "Dataset({\n",
       "    features: ['text', 'label', 'input_ids', 'attention_mask'],\n",
       "    num_rows: 700269\n",
       "})"
      ]
     },
     "execution_count": 6,
     "metadata": {},
     "output_type": "execute_result"
    }
   ],
   "source": [
    "train_testvalid = yelp_dataset.train_test_split(test_size=0.3)\n",
    "test_valid = train_testvalid[\"test\"].train_test_split(test_size=0.5)\n",
    "train, valid, test = train_testvalid[\"train\"], test_valid[\"train\"], test_valid[\"test\"]\n",
    "train"
   ]
  },
  {
   "cell_type": "code",
   "execution_count": 7,
   "id": "872c4d5a7873693a",
   "metadata": {
    "ExecuteTime": {
     "end_time": "2023-08-12T14:19:08.122161Z",
     "start_time": "2023-08-12T14:19:07.106797Z"
    },
    "collapsed": false,
    "jupyter": {
     "outputs_hidden": false
    }
   },
   "outputs": [
    {
     "data": {
      "application/vnd.jupyter.widget-view+json": {
       "model_id": "c71f4358d5964d75ad86e08eb08441f9",
       "version_major": 2,
       "version_minor": 0
      },
      "text/plain": [
       "Creating parquet from Arrow format:   0%|          | 0/701 [00:00<?, ?ba/s]"
      ]
     },
     "metadata": {},
     "output_type": "display_data"
    },
    {
     "data": {
      "application/vnd.jupyter.widget-view+json": {
       "model_id": "283f1e9801ee4552addf2200404c3238",
       "version_major": 2,
       "version_minor": 0
      },
      "text/plain": [
       "Creating parquet from Arrow format:   0%|          | 0/151 [00:00<?, ?ba/s]"
      ]
     },
     "metadata": {},
     "output_type": "display_data"
    },
    {
     "data": {
      "application/vnd.jupyter.widget-view+json": {
       "model_id": "2d73dbabb1c64c549bee60181d682883",
       "version_major": 2,
       "version_minor": 0
      },
      "text/plain": [
       "Creating parquet from Arrow format:   0%|          | 0/151 [00:00<?, ?ba/s]"
      ]
     },
     "metadata": {},
     "output_type": "display_data"
    },
    {
     "data": {
      "text/plain": [
       "184980217"
      ]
     },
     "execution_count": 7,
     "metadata": {},
     "output_type": "execute_result"
    }
   ],
   "source": [
    "train.to_parquet(\"yelp_train_unbalanced.parquet\")\n",
    "valid.to_parquet(\"yelp_eval.parquet\")\n",
    "test.to_parquet(\"yelp_test.parquet\")"
   ]
  },
  {
   "cell_type": "code",
   "execution_count": null,
   "id": "91991ff7ceb9222",
   "metadata": {
    "ExecuteTime": {
     "end_time": "2023-08-12T14:19:08.123755Z",
     "start_time": "2023-08-12T14:19:08.113300Z"
    },
    "collapsed": false,
    "jupyter": {
     "outputs_hidden": false
    }
   },
   "outputs": [],
   "source": []
  }
 ],
 "metadata": {
  "environment": {
   "kernel": "python3",
   "name": "common-gpu.m110",
   "type": "gcloud",
   "uri": "gcr.io/deeplearning-platform-release/base-gpu:m110"
  },
  "kernelspec": {
   "display_name": "Python 3",
   "language": "python",
   "name": "python3"
  },
  "language_info": {
   "codemirror_mode": {
    "name": "ipython",
    "version": 3
   },
   "file_extension": ".py",
   "mimetype": "text/x-python",
   "name": "python",
   "nbconvert_exporter": "python",
   "pygments_lexer": "ipython3",
   "version": "3.10.12"
  }
 },
 "nbformat": 4,
 "nbformat_minor": 5
}
