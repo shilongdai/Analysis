{
 "cells": [
  {
   "cell_type": "code",
   "execution_count": 1,
   "id": "initial_id",
   "metadata": {
    "collapsed": true,
    "ExecuteTime": {
     "end_time": "2023-08-12T14:18:53.999426Z",
     "start_time": "2023-08-12T14:18:53.287262Z"
    }
   },
   "outputs": [],
   "source": [
    "import random\n",
    "import numpy as np\n",
    "import pandas as pd\n",
    "\n",
    "SEED = 93\n",
    "np.random.seed(SEED)\n",
    "random.seed(SEED)"
   ]
  },
  {
   "cell_type": "markdown",
   "source": [
    "The following code segment was used to sample from the full Yelp reviews data without taking too long:\n",
    "\n",
    "```python\n",
    "FULL_SIZE = 6990280\n",
    "SAMPLE_P = 50000 / FULL_SIZE\n",
    "\n",
    "yelp_reviews_raw = []\n",
    "with open(\"yelp_academic_dataset_review.json\", \"r\") as fp:\n",
    "    for entry in fp:\n",
    "        if random.random() <= SAMPLE_P:\n",
    "            yelp_reviews_raw.append(json.loads(entry))\n",
    "\n",
    "yelp_reviews_sampled = pd.DataFrame(yelp_reviews_raw)\n",
    "yelp_reviews_sampled.to_parquet(\"yelp_sample.parquet\", index=False)\n",
    "```"
   ],
   "metadata": {
    "collapsed": false
   },
   "id": "fece69f2cacaa774"
  },
  {
   "cell_type": "code",
   "execution_count": 2,
   "outputs": [
    {
     "data": {
      "text/plain": "                review_id                 user_id             business_id  \\\n0  byblHsbxiqb1pC1cuSfslA  C_2mNjl-doRVvsL03_T57Q  18eWJFJbXyR9j_5xfcRLYA   \n1  1c6sgLe07HAhipebsQ1wgA  ZRXvbrutBBULaFS6T9NCwA  HnhxO2cpa15AHI1456Pl6Q   \n2  VDn0TqsdpxbNUBZEXkakUQ  16_EZvrDyxjDgxq6OUdbhQ  WaRZsQEcEHwRk0T2dJ-cuA   \n3  WaeKsvHUJ8whjBlWjl0kaQ  yyxEa8y4HGij_m7g1wDKWg  Jc6MxMyCLp4DMfN4C1t1aQ   \n4  cApCuVIQdSmCryjmTiSELA  jVMvuv2SlzIf5JOUEbi0tQ  D3DMIr-I0AKzlIKdErxHGg   \n\n   stars  useful  funny  cool  \\\n0    4.0       7      0     0   \n1    5.0       0      1     0   \n2    5.0       1      0     0   \n3    3.0       0      0     0   \n4    5.0       4      0     0   \n\n                                                text                 date  \n0  This is the first time I tried this place and ...  2011-10-28 03:43:05  \n1  Wow! I never thought my sons phone could be re...  2015-10-17 00:55:35  \n2  Fabulous! Best happy hour, fresh menu, Delish-...  2014-02-24 03:20:20  \n3  It's really a run of the middle as far as Cuba...  2015-04-15 14:50:49  \n4  Incredible service and incredible food! The bl...  2013-12-29 05:21:36  ",
      "text/html": "<div>\n<style scoped>\n    .dataframe tbody tr th:only-of-type {\n        vertical-align: middle;\n    }\n\n    .dataframe tbody tr th {\n        vertical-align: top;\n    }\n\n    .dataframe thead th {\n        text-align: right;\n    }\n</style>\n<table border=\"1\" class=\"dataframe\">\n  <thead>\n    <tr style=\"text-align: right;\">\n      <th></th>\n      <th>review_id</th>\n      <th>user_id</th>\n      <th>business_id</th>\n      <th>stars</th>\n      <th>useful</th>\n      <th>funny</th>\n      <th>cool</th>\n      <th>text</th>\n      <th>date</th>\n    </tr>\n  </thead>\n  <tbody>\n    <tr>\n      <th>0</th>\n      <td>byblHsbxiqb1pC1cuSfslA</td>\n      <td>C_2mNjl-doRVvsL03_T57Q</td>\n      <td>18eWJFJbXyR9j_5xfcRLYA</td>\n      <td>4.0</td>\n      <td>7</td>\n      <td>0</td>\n      <td>0</td>\n      <td>This is the first time I tried this place and ...</td>\n      <td>2011-10-28 03:43:05</td>\n    </tr>\n    <tr>\n      <th>1</th>\n      <td>1c6sgLe07HAhipebsQ1wgA</td>\n      <td>ZRXvbrutBBULaFS6T9NCwA</td>\n      <td>HnhxO2cpa15AHI1456Pl6Q</td>\n      <td>5.0</td>\n      <td>0</td>\n      <td>1</td>\n      <td>0</td>\n      <td>Wow! I never thought my sons phone could be re...</td>\n      <td>2015-10-17 00:55:35</td>\n    </tr>\n    <tr>\n      <th>2</th>\n      <td>VDn0TqsdpxbNUBZEXkakUQ</td>\n      <td>16_EZvrDyxjDgxq6OUdbhQ</td>\n      <td>WaRZsQEcEHwRk0T2dJ-cuA</td>\n      <td>5.0</td>\n      <td>1</td>\n      <td>0</td>\n      <td>0</td>\n      <td>Fabulous! Best happy hour, fresh menu, Delish-...</td>\n      <td>2014-02-24 03:20:20</td>\n    </tr>\n    <tr>\n      <th>3</th>\n      <td>WaeKsvHUJ8whjBlWjl0kaQ</td>\n      <td>yyxEa8y4HGij_m7g1wDKWg</td>\n      <td>Jc6MxMyCLp4DMfN4C1t1aQ</td>\n      <td>3.0</td>\n      <td>0</td>\n      <td>0</td>\n      <td>0</td>\n      <td>It's really a run of the middle as far as Cuba...</td>\n      <td>2015-04-15 14:50:49</td>\n    </tr>\n    <tr>\n      <th>4</th>\n      <td>cApCuVIQdSmCryjmTiSELA</td>\n      <td>jVMvuv2SlzIf5JOUEbi0tQ</td>\n      <td>D3DMIr-I0AKzlIKdErxHGg</td>\n      <td>5.0</td>\n      <td>4</td>\n      <td>0</td>\n      <td>0</td>\n      <td>Incredible service and incredible food! The bl...</td>\n      <td>2013-12-29 05:21:36</td>\n    </tr>\n  </tbody>\n</table>\n</div>"
     },
     "execution_count": 2,
     "metadata": {},
     "output_type": "execute_result"
    }
   ],
   "source": [
    "yelp_reviews_sampled = pd.read_parquet(\"yelp_sample.parquet\")\n",
    "yelp_reviews_sampled.head()"
   ],
   "metadata": {
    "collapsed": false,
    "ExecuteTime": {
     "end_time": "2023-08-12T14:18:54.152909Z",
     "start_time": "2023-08-12T14:18:53.973641Z"
    }
   },
   "id": "19188fac45f0ca67"
  },
  {
   "cell_type": "code",
   "execution_count": 3,
   "outputs": [
    {
     "data": {
      "text/plain": "<Figure size 640x480 with 1 Axes>",
      "image/png": "[encoded data removed]"
     },
     "metadata": {},
     "output_type": "display_data"
    }
   ],
   "source": [
    "import matplotlib.pyplot as plt\n",
    "\n",
    "ratings_summary = yelp_reviews_sampled[\"stars\"].value_counts()\n",
    "ratings_summary.plot.bar()\n",
    "plt.title(\"Summary of Ratings Count\")\n",
    "plt.ylabel(\"Count\")\n",
    "plt.xlabel(\"Stars\")\n",
    "plt.show()"
   ],
   "metadata": {
    "collapsed": false,
    "ExecuteTime": {
     "end_time": "2023-08-12T14:18:54.516243Z",
     "start_time": "2023-08-12T14:18:54.145344Z"
    }
   },
   "id": "fd74549765a2194a"
  },
  {
   "cell_type": "code",
   "execution_count": 4,
   "outputs": [
    {
     "data": {
      "text/plain": "Map:   0%|          | 0/49975 [00:00<?, ? examples/s]",
      "application/vnd.jupyter.widget-view+json": {
       "version_major": 2,
       "version_minor": 0,
       "model_id": "05ebc114e0c746e19f38d5dcd4303724"
      }
     },
     "metadata": {},
     "output_type": "display_data"
    },
    {
     "data": {
      "text/plain": "Dataset({\n    features: ['text', 'label', 'input_ids', 'attention_mask'],\n    num_rows: 49975\n})"
     },
     "execution_count": 4,
     "metadata": {},
     "output_type": "execute_result"
    }
   ],
   "source": [
    "from datasets import Dataset\n",
    "from transformers import AutoTokenizer\n",
    "\n",
    "yelp_reviews_sampled[\"stars\"] = yelp_reviews_sampled.stars.apply(lambda x: int(x) - 1)\n",
    "yelp_reviews_sampled = yelp_reviews_sampled.rename(columns={\"stars\": \"label\"})\n",
    "yelp_dicts = yelp_reviews_sampled[[\"text\", \"label\"]].to_dict(\"records\")\n",
    "\n",
    "tokenizer = AutoTokenizer.from_pretrained(\"distilbert-base-uncased\")\n",
    "yelp_dataset = Dataset.from_list(yelp_dicts).map(lambda x: tokenizer(x[\"text\"], truncation=True))\n",
    "yelp_dataset"
   ],
   "metadata": {
    "collapsed": false,
    "ExecuteTime": {
     "end_time": "2023-08-12T14:19:07.096004Z",
     "start_time": "2023-08-12T14:18:54.505546Z"
    }
   },
   "id": "1c74f5728e2329ea"
  },
  {
   "cell_type": "code",
   "execution_count": 5,
   "outputs": [
    {
     "data": {
      "text/plain": "Dataset({\n    features: ['text', 'label', 'input_ids', 'attention_mask'],\n    num_rows: 39980\n})"
     },
     "execution_count": 5,
     "metadata": {},
     "output_type": "execute_result"
    }
   ],
   "source": [
    "train_testvalid = yelp_dataset.train_test_split(test_size=0.2)\n",
    "test_valid = train_testvalid[\"test\"].train_test_split(test_size=0.5)\n",
    "train, valid, test = train_testvalid[\"train\"], test_valid[\"train\"], test_valid[\"test\"]\n",
    "train"
   ],
   "metadata": {
    "collapsed": false,
    "ExecuteTime": {
     "end_time": "2023-08-12T14:19:07.110975Z",
     "start_time": "2023-08-12T14:19:07.093277Z"
    }
   },
   "id": "2491dc9485814f29"
  },
  {
   "cell_type": "code",
   "execution_count": 6,
   "outputs": [
    {
     "data": {
      "text/plain": "Creating parquet from Arrow format:   0%|          | 0/40 [00:00<?, ?ba/s]",
      "application/vnd.jupyter.widget-view+json": {
       "version_major": 2,
       "version_minor": 0,
       "model_id": "c9094e16ef4b4640b209fa1466db801a"
      }
     },
     "metadata": {},
     "output_type": "display_data"
    },
    {
     "data": {
      "text/plain": "Creating parquet from Arrow format:   0%|          | 0/5 [00:00<?, ?ba/s]",
      "application/vnd.jupyter.widget-view+json": {
       "version_major": 2,
       "version_minor": 0,
       "model_id": "ffeaf916b16d4bfa81d841a1268cdc18"
      }
     },
     "metadata": {},
     "output_type": "display_data"
    },
    {
     "data": {
      "text/plain": "Creating parquet from Arrow format:   0%|          | 0/5 [00:00<?, ?ba/s]",
      "application/vnd.jupyter.widget-view+json": {
       "version_major": 2,
       "version_minor": 0,
       "model_id": "faac17cd2b5840889837aff101f70eef"
      }
     },
     "metadata": {},
     "output_type": "display_data"
    },
    {
     "data": {
      "text/plain": "6209435"
     },
     "execution_count": 6,
     "metadata": {},
     "output_type": "execute_result"
    }
   ],
   "source": [
    "train.to_parquet(\"yelp_train.parquet\")\n",
    "valid.to_parquet(\"yelp_eval.parquet\")\n",
    "test.to_parquet(\"yelp_test.parquet\")"
   ],
   "metadata": {
    "collapsed": false,
    "ExecuteTime": {
     "end_time": "2023-08-12T14:19:08.122161Z",
     "start_time": "2023-08-12T14:19:07.106797Z"
    }
   },
   "id": "872c4d5a7873693a"
  },
  {
   "cell_type": "code",
   "execution_count": 6,
   "outputs": [],
   "source": [],
   "metadata": {
    "collapsed": false,
    "ExecuteTime": {
     "end_time": "2023-08-12T14:19:08.123755Z",
     "start_time": "2023-08-12T14:19:08.113300Z"
    }
   },
   "id": "91991ff7ceb9222"
  }
 ],
 "metadata": {
  "kernelspec": {
   "display_name": "Python 3",
   "language": "python",
   "name": "python3"
  },
  "language_info": {
   "codemirror_mode": {
    "name": "ipython",
    "version": 2
   },
   "file_extension": ".py",
   "mimetype": "text/x-python",
   "name": "python",
   "nbconvert_exporter": "python",
   "pygments_lexer": "ipython2",
   "version": "2.7.6"
  }
 },
 "nbformat": 4,
 "nbformat_minor": 5
}
