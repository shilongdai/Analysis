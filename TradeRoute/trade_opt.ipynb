{
 "cells": [
  {
   "cell_type": "markdown",
   "source": [
    "# SC Trade Optimization\n",
    "\n",
    "## Introduction\n",
    "In many simulation games, there is an element of trade. Typically, the player visits\n",
    "various producers, which sells a certain set of good for a low price, and then delivers the\n",
    "goods to various consumers, which would purchase the goods for a higher price. A natural\n",
    "in these cases would be to maximize the profit after a successful run. For this analysis, the\n",
    "focus is on Star Citizen, which is a space sim game currently in development. In SC, each outposts on planets/moons, and space stations has a list of goods that they would sell\n",
    "and purchase. For instance, a mining outposts would sell various minerals while buying things like\n",
    "medical supplies. Often, the producing location would sell the goods at a cheaper price. Thus, a\n",
    "trading strategy would be to purchase goods from the producing locations to sell in major hubs like\n",
    "space stations or cities. Thus, the goal would be to determine the optimal producers/consumers to\n",
    "visit, and the amount to purchase/sell."
   ],
   "metadata": {
    "collapsed": false
   }
  },
  {
   "cell_type": "markdown",
   "source": [
    "## Motivation\n",
    "Currently, there are existing tools which can be used to find trade routes. However, these tools\n",
    "are usually unable to find routes that span over multiple locations, carrying multiple types of cargo. Furthermore, given the current state of supply in the game, the existing tools are also\n",
    "unable to account for the expected low supply on highly profitable goods. Finally, when the supply\n",
    "is lower than expected, the existing tools are generally unable to create an alternative plan\n",
    "starting from the current location. Thus, by explicitly modeling the problem in the language of\n",
    "optimization, some of these issues may be addressed."
   ],
   "metadata": {
    "collapsed": false
   }
  },
  {
   "cell_type": "markdown",
   "source": [
    "## Problem Description\n",
    "Since SC is a space sim, there are no \"roads\" that has to be considered. Each buyer/seller\n",
    "can be directly reached from every other buyer/seller via quantum jump. The stopping points during\n",
    "quantum jumps are empty space, and are meant to get around obstacles. In general, quantum\n",
    "jumping local to a planet does not take much time. However, quantum jumping between planets,\n",
    "and to Lagrange points takes a longer period of time. At each stop, there are a set\n",
    "of commodities that can be bought and sold at a price. Furthermore, there's a limited demand and\n",
    "supply for each commodities, as well as a limit in the amount of available cargo space. Since\n",
    " there's a limited supply/demand, it would not be feasible to visit the same location multiple times\n",
    " on single trade run. Thus, each location should be visited at most once. Additionally, it is not\n",
    " necessary that the player starts and stop at the same location, but it can be a\n",
    "desirable feature. Finally, it is also not necessary that the player starts from a specific location.\n",
    "This implies that the trade route problem here is a variant of the vehicle routing problem(VRP) with\n",
    "one vehicle with the added factor of how much cargo to purchase and sell. The problem is NP-hard,\n",
    "but it can be formulated as a mixed integer programming problem under the decision theory framework."
   ],
   "metadata": {
    "collapsed": false
   }
  },
  {
   "cell_type": "markdown",
   "source": [
    "## Problem Formulation\n",
    "\n",
    "### Loss\n",
    "\n",
    "First, the loss function $L(d(O), \\theta)$ needs to be set. Let\n",
    "\n",
    "$\\theta = (B_{ilt}, S_{ilt}, D_{ilt}, P_{ilt})$, the modeled state of the world with\n",
    "\n",
    "$B_{ilt}$ = the price to purchase commodity $i$ at location $l$ during step $t$\n",
    "\n",
    "$S_{ilt}$ = the price to sell commodity $i$ at location $l$ during step $t$\n",
    "\n",
    "$D_{ilt}$ = the demand for commodity $i$ at location $l$ during step $t$\n",
    "\n",
    "$P_{ilt}$ = the supply for commodity $i$ at location $l$ during step $t$\n",
    "\n",
    "Additionally, we can take that there are $N$ commodities, $C$ cargo space, $M$ locations, and a maximum of\n",
    "$T$ steps to consider. Furthermore, we can set aside a virtual start location 0 to account for\n",
    "arbitrary start location.\n",
    "\n",
    "The route picked can be formulated as\n",
    "\n",
    "$d(O) = r = (X_{ijt}, L_{ilt}, I_{ilt})$, with\n",
    "\n",
    "$X_{ijt}$ = a binary variable indicating that the player goes from location i to location j at\n",
    "time t\n",
    "\n",
    "$L_{ilt}$ = the intended amount of good $i$ to sell at location $l$ at time $t$\n",
    "\n",
    "$I_{ilt}$ = the intended amount of good $i$ to buy at location $l$ at time $t$\n",
    "\n",
    "It is important to note that the only valid routes are the ones where the player is at a single\n",
    "location at any given time. Furthermore, the player only buys and purchases goods at the current\n",
    "location.\n",
    "\n",
    "Then, the trade loss function can be defined as\n",
    "\n",
    "$L(r, \\theta) = \\sum\\limits_{t} \\sum\\limits_{l} \\sum\\limits_{i} min(P_{ilt}, I_{ilt})B_{ilt} -\n",
    "\\sum\\limits_{t} \\sum\\limits_{l} \\sum\\limits_{i} min(D_{ilt}, L_{ilt})S_{ilt}$\n",
    "\n",
    "Intuitively, it is the sum of money spent on actual purchases minus the sum of money made from\n",
    "actual sells.\n",
    "\n",
    "Now, since the goal is to plan the route, and ultimately the player is responsible for adjustments\n",
    "due to various in-game circumstances, there are no observations for the route decision. Thus, the risk\n",
    "$R(d(O), \\theta) = L(r, \\theta)$, and the Bayes risk $r(d(O)) = E_{\\theta}[R(d(O), \\theta)]$\n",
    "\n",
    "In the current state of the game, the price does not really change, and only the supply/demand\n",
    "fluctuates due to player actions, so\n",
    "\n",
    "$E_{\\theta}[R(d(O), \\theta)] = \\sum\\limits_{t} \\sum\\limits_{l} \\sum\\limits_{i} E[min(P_{ilt}, I_{ilt})]B_{ilt} -\n",
    "\\sum\\limits_{t} \\sum\\limits_{l} \\sum\\limits_{i} E[min(D_{ilt}, L_{ilt})]S_{ilt}$\n",
    "\n",
    "Since data on stock information is not collected, for the purpose of this analysis, it is assumed that\n",
    "the stocks are at 100% all the time. It is obviously false, but in practice the input matrix can\n",
    "be adjusted to reflect day to day experience. With this assumption, $E[min(P_{ilt}, I_{ilt})] = min(P_{ilt}, I_{ilt})$\n",
    "and $E[min(D_{ilt}, L_{ilt})] = min(D_{ilt}, L_{ilt})$. Thus, the bayes risk is the same as the loss\n",
    "function."
   ],
   "metadata": {
    "collapsed": false
   }
  },
  {
   "cell_type": "markdown",
   "source": [
    "### Constraint\n",
    "It was noted earlier that the set of routes is constrained so that only valid ones are considered.\n",
    "To put it in the language of optimization,\n",
    "\n",
    "#### Path\n",
    "\n",
    "(1) $\\forall i, t>=1, \\sum\\limits_j X_{ijt} <= min(1, \\sum\\limits_j X_{ji(t-1)})$\n",
    "\n",
    "(2) $\\forall t>=1, \\sum\\limits_i \\sum\\limits_j X_{ijt} = 1$\n",
    "\n",
    "(3) $\\forall j, \\sum\\limits_i \\sum\\limits_t X_{ijt} <= 1$\n",
    "\n",
    "(4) $\\sum\\limits_j X_{0j0} = 1$\n",
    "\n",
    "These constraints ensure that the path selected make sense in terms of traveling:\n",
    "\n",
    "Constraint (1) ensures that a path from i to j can be made only when the player arrives at i at the previous\n",
    "step.\n",
    "\n",
    "Constraint (2) ensures that the the player travels only one path at each step.\n",
    "\n",
    "Constraint (3) ensures that the player arrives at each location at most once.\n",
    "\n",
    "Constraint (4) ensures that the player can start at arbitrary location at time 0.\n",
    "\n"
   ],
   "metadata": {
    "collapsed": false
   }
  },
  {
   "cell_type": "markdown",
   "source": [
    "#### Buying/Selling Locations\n",
    "\n",
    "(5) $\\forall t>=1, j, \\sum\\limits_i X_{ij(t-1)} + \\epsilon_{jt} = \\sum\\limits_g I_{gjt} + \\sum\\limits_g L_{gjt}$\n",
    "\n",
    "(6) $\\forall j,t, -1 <= \\epsilon_{jt} <= \\sum\\limits_g I_{gjt} + \\sum\\limits_g L_{gjt} - 1$\n",
    "\n",
    "With a slack variable $\\epsilon$ added, these constraints ensure that the player only\n",
    "buys and sells at their current location:\n",
    "\n",
    "Constraints (5) and (6) makes it so that buying/selling any goods at location $j$ during time $t$\n",
    "pushes up $\\sum\\limits_i X_{ij(t-1)}$ to 1, which implies that the player arrived at location $j$\n",
    "before doing anything at $j$."
   ],
   "metadata": {
    "collapsed": false
   }
  },
  {
   "cell_type": "markdown",
   "source": [
    "#### Buying/Selling Amount\n",
    "\n",
    "(7) $\\forall t, \\sum\\limits_{n=0}^t \\sum\\limits_i \\sum\\limits_g I_{gin} - \\sum\\limits_{n=0}^t \\sum\\limits_i \\sum\\limits_g L_{gin} <= C$\n",
    "\n",
    "(8) $\\forall g, t >= 1, \\sum\\limits_i L_{git} <= \\sum\\limits_{n=0}^t \\sum\\limits_i I_{gin} - \\sum\\limits_{n=0}^{t-1} \\sum\\limits_i L_{gin}$\n",
    "\n",
    "(9) $\\forall g, i, t, L_{git} >= 0, I_{git} >= 0$\n",
    "\n",
    "These constraints ensure that the amount bought and sold are legitimate. In particular,\n",
    "\n",
    "(7) ensures that all purchases does not exceed the maximum cargo amount\n",
    "\n",
    "(8) ensures that the commodities sold are currently in possession.\n",
    "\n",
    "(9) ensures that it is impossible to purchase and sell negative amount of cargo."
   ],
   "metadata": {
    "collapsed": false
   }
  },
  {
   "cell_type": "markdown",
   "source": [
    "## Solving\n",
    "\n",
    "With the formulation of the problem, an implementation in Python using cvxpy is written below.\n",
    "Since all of the constraints are linear in form, the convex relaxation of the problem falls under\n",
    "linear programming. Consequently, it would make this problem solvable by any mixed-integer solver.\n",
    "In this case, the coin-or cbc solver is used since it's free."
   ],
   "metadata": {
    "collapsed": false
   }
  },
  {
   "cell_type": "code",
   "execution_count": 22,
   "outputs": [
    {
     "ename": "SolverError",
     "evalue": "The solver GLPK_MI is not installed.",
     "output_type": "error",
     "traceback": [
      "\u001B[0;31m---------------------------------------------------------------------------\u001B[0m",
      "\u001B[0;31mSolverError\u001B[0m                               Traceback (most recent call last)",
      "\u001B[0;32m<ipython-input-22-a5db9569fe6f>\u001B[0m in \u001B[0;36m<module>\u001B[0;34m\u001B[0m\n\u001B[1;32m     96\u001B[0m     \u001B[0mD\u001B[0m\u001B[0;34m[\u001B[0m\u001B[0mt\u001B[0m\u001B[0;34m]\u001B[0m\u001B[0;34m.\u001B[0m\u001B[0mvalue\u001B[0m \u001B[0;34m=\u001B[0m \u001B[0mnp\u001B[0m\u001B[0;34m.\u001B[0m\u001B[0marray\u001B[0m\u001B[0;34m(\u001B[0m\u001B[0mdemand\u001B[0m\u001B[0;34m)\u001B[0m\u001B[0;34m\u001B[0m\u001B[0;34m\u001B[0m\u001B[0m\n\u001B[1;32m     97\u001B[0m     \u001B[0mP\u001B[0m\u001B[0;34m[\u001B[0m\u001B[0mt\u001B[0m\u001B[0;34m]\u001B[0m\u001B[0;34m.\u001B[0m\u001B[0mvalue\u001B[0m \u001B[0;34m=\u001B[0m \u001B[0mnp\u001B[0m\u001B[0;34m.\u001B[0m\u001B[0marray\u001B[0m\u001B[0;34m(\u001B[0m\u001B[0msupply\u001B[0m\u001B[0;34m)\u001B[0m\u001B[0;34m\u001B[0m\u001B[0;34m\u001B[0m\u001B[0m\n\u001B[0;32m---> 98\u001B[0;31m \u001B[0mprob\u001B[0m\u001B[0;34m.\u001B[0m\u001B[0msolve\u001B[0m\u001B[0;34m(\u001B[0m\u001B[0msolver\u001B[0m\u001B[0;34m=\u001B[0m\u001B[0mcp\u001B[0m\u001B[0;34m.\u001B[0m\u001B[0mGLPK_MI\u001B[0m\u001B[0;34m)\u001B[0m\u001B[0;34m\u001B[0m\u001B[0;34m\u001B[0m\u001B[0m\n\u001B[0m",
      "\u001B[0;32m~/RAnalysis/Analysis/venv/lib64/python3.6/site-packages/cvxpy/problems/problem.py\u001B[0m in \u001B[0;36msolve\u001B[0;34m(self, *args, **kwargs)\u001B[0m\n\u001B[1;32m    471\u001B[0m         \u001B[0;32melse\u001B[0m\u001B[0;34m:\u001B[0m\u001B[0;34m\u001B[0m\u001B[0;34m\u001B[0m\u001B[0m\n\u001B[1;32m    472\u001B[0m             \u001B[0msolve_func\u001B[0m \u001B[0;34m=\u001B[0m \u001B[0mProblem\u001B[0m\u001B[0;34m.\u001B[0m\u001B[0m_solve\u001B[0m\u001B[0;34m\u001B[0m\u001B[0;34m\u001B[0m\u001B[0m\n\u001B[0;32m--> 473\u001B[0;31m         \u001B[0;32mreturn\u001B[0m \u001B[0msolve_func\u001B[0m\u001B[0;34m(\u001B[0m\u001B[0mself\u001B[0m\u001B[0;34m,\u001B[0m \u001B[0;34m*\u001B[0m\u001B[0margs\u001B[0m\u001B[0;34m,\u001B[0m \u001B[0;34m**\u001B[0m\u001B[0mkwargs\u001B[0m\u001B[0;34m)\u001B[0m\u001B[0;34m\u001B[0m\u001B[0;34m\u001B[0m\u001B[0m\n\u001B[0m\u001B[1;32m    474\u001B[0m \u001B[0;34m\u001B[0m\u001B[0m\n\u001B[1;32m    475\u001B[0m     \u001B[0;34m@\u001B[0m\u001B[0mclassmethod\u001B[0m\u001B[0;34m\u001B[0m\u001B[0;34m\u001B[0m\u001B[0m\n",
      "\u001B[0;32m~/RAnalysis/Analysis/venv/lib64/python3.6/site-packages/cvxpy/problems/problem.py\u001B[0m in \u001B[0;36m_solve\u001B[0;34m(self, solver, warm_start, verbose, gp, qcp, requires_grad, enforce_dpp, **kwargs)\u001B[0m\n\u001B[1;32m    969\u001B[0m \u001B[0;34m\u001B[0m\u001B[0m\n\u001B[1;32m    970\u001B[0m         data, solving_chain, inverse_data = self.get_problem_data(\n\u001B[0;32m--> 971\u001B[0;31m             solver, gp, enforce_dpp, verbose)\n\u001B[0m\u001B[1;32m    972\u001B[0m \u001B[0;34m\u001B[0m\u001B[0m\n\u001B[1;32m    973\u001B[0m         \u001B[0;32mif\u001B[0m \u001B[0mverbose\u001B[0m\u001B[0;34m:\u001B[0m\u001B[0;34m\u001B[0m\u001B[0;34m\u001B[0m\u001B[0m\n",
      "\u001B[0;32m~/RAnalysis/Analysis/venv/lib64/python3.6/site-packages/cvxpy/problems/problem.py\u001B[0m in \u001B[0;36mget_problem_data\u001B[0;34m(self, solver, gp, enforce_dpp, verbose)\u001B[0m\n\u001B[1;32m    580\u001B[0m             \u001B[0mself\u001B[0m\u001B[0;34m.\u001B[0m\u001B[0m_cache\u001B[0m\u001B[0;34m.\u001B[0m\u001B[0minvalidate\u001B[0m\u001B[0;34m(\u001B[0m\u001B[0;34m)\u001B[0m\u001B[0;34m\u001B[0m\u001B[0;34m\u001B[0m\u001B[0m\n\u001B[1;32m    581\u001B[0m             solving_chain = self._construct_chain(\n\u001B[0;32m--> 582\u001B[0;31m                 solver=solver, gp=gp, enforce_dpp=enforce_dpp)\n\u001B[0m\u001B[1;32m    583\u001B[0m             \u001B[0mself\u001B[0m\u001B[0;34m.\u001B[0m\u001B[0m_cache\u001B[0m\u001B[0;34m.\u001B[0m\u001B[0mkey\u001B[0m \u001B[0;34m=\u001B[0m \u001B[0mkey\u001B[0m\u001B[0;34m\u001B[0m\u001B[0;34m\u001B[0m\u001B[0m\n\u001B[1;32m    584\u001B[0m             \u001B[0mself\u001B[0m\u001B[0;34m.\u001B[0m\u001B[0m_cache\u001B[0m\u001B[0;34m.\u001B[0m\u001B[0msolving_chain\u001B[0m \u001B[0;34m=\u001B[0m \u001B[0msolving_chain\u001B[0m\u001B[0;34m\u001B[0m\u001B[0;34m\u001B[0m\u001B[0m\n",
      "\u001B[0;32m~/RAnalysis/Analysis/venv/lib64/python3.6/site-packages/cvxpy/problems/problem.py\u001B[0m in \u001B[0;36m_construct_chain\u001B[0;34m(self, solver, gp, enforce_dpp)\u001B[0m\n\u001B[1;32m    809\u001B[0m         \u001B[0mA\u001B[0m \u001B[0msolving\u001B[0m \u001B[0mchain\u001B[0m\u001B[0;34m\u001B[0m\u001B[0;34m\u001B[0m\u001B[0m\n\u001B[1;32m    810\u001B[0m         \"\"\"\n\u001B[0;32m--> 811\u001B[0;31m         \u001B[0mcandidate_solvers\u001B[0m \u001B[0;34m=\u001B[0m \u001B[0mself\u001B[0m\u001B[0;34m.\u001B[0m\u001B[0m_find_candidate_solvers\u001B[0m\u001B[0;34m(\u001B[0m\u001B[0msolver\u001B[0m\u001B[0;34m=\u001B[0m\u001B[0msolver\u001B[0m\u001B[0;34m,\u001B[0m \u001B[0mgp\u001B[0m\u001B[0;34m=\u001B[0m\u001B[0mgp\u001B[0m\u001B[0;34m)\u001B[0m\u001B[0;34m\u001B[0m\u001B[0;34m\u001B[0m\u001B[0m\n\u001B[0m\u001B[1;32m    812\u001B[0m         \u001B[0mself\u001B[0m\u001B[0;34m.\u001B[0m\u001B[0m_sort_candidate_solvers\u001B[0m\u001B[0;34m(\u001B[0m\u001B[0mcandidate_solvers\u001B[0m\u001B[0;34m)\u001B[0m\u001B[0;34m\u001B[0m\u001B[0;34m\u001B[0m\u001B[0m\n\u001B[1;32m    813\u001B[0m         return construct_solving_chain(self, candidate_solvers, gp=gp,\n",
      "\u001B[0;32m~/RAnalysis/Analysis/venv/lib64/python3.6/site-packages/cvxpy/problems/problem.py\u001B[0m in \u001B[0;36m_find_candidate_solvers\u001B[0;34m(self, solver, gp)\u001B[0m\n\u001B[1;32m    688\u001B[0m         \u001B[0;32mif\u001B[0m \u001B[0msolver\u001B[0m \u001B[0;32mis\u001B[0m \u001B[0;32mnot\u001B[0m \u001B[0;32mNone\u001B[0m\u001B[0;34m:\u001B[0m\u001B[0;34m\u001B[0m\u001B[0;34m\u001B[0m\u001B[0m\n\u001B[1;32m    689\u001B[0m             \u001B[0;32mif\u001B[0m \u001B[0msolver\u001B[0m \u001B[0;32mnot\u001B[0m \u001B[0;32min\u001B[0m \u001B[0mslv_def\u001B[0m\u001B[0;34m.\u001B[0m\u001B[0mINSTALLED_SOLVERS\u001B[0m\u001B[0;34m:\u001B[0m\u001B[0;34m\u001B[0m\u001B[0;34m\u001B[0m\u001B[0m\n\u001B[0;32m--> 690\u001B[0;31m                 \u001B[0;32mraise\u001B[0m \u001B[0merror\u001B[0m\u001B[0;34m.\u001B[0m\u001B[0mSolverError\u001B[0m\u001B[0;34m(\u001B[0m\u001B[0;34m\"The solver %s is not installed.\"\u001B[0m \u001B[0;34m%\u001B[0m \u001B[0msolver\u001B[0m\u001B[0;34m)\u001B[0m\u001B[0;34m\u001B[0m\u001B[0;34m\u001B[0m\u001B[0m\n\u001B[0m\u001B[1;32m    691\u001B[0m             \u001B[0;32mif\u001B[0m \u001B[0msolver\u001B[0m \u001B[0;32min\u001B[0m \u001B[0mslv_def\u001B[0m\u001B[0;34m.\u001B[0m\u001B[0mCONIC_SOLVERS\u001B[0m\u001B[0;34m:\u001B[0m\u001B[0;34m\u001B[0m\u001B[0;34m\u001B[0m\u001B[0m\n\u001B[1;32m    692\u001B[0m                 \u001B[0mcandidates\u001B[0m\u001B[0;34m[\u001B[0m\u001B[0;34m'conic_solvers'\u001B[0m\u001B[0;34m]\u001B[0m \u001B[0;34m+=\u001B[0m \u001B[0;34m[\u001B[0m\u001B[0msolver\u001B[0m\u001B[0;34m]\u001B[0m\u001B[0;34m\u001B[0m\u001B[0;34m\u001B[0m\u001B[0m\n",
      "\u001B[0;31mSolverError\u001B[0m: The solver GLPK_MI is not installed."
     ]
    }
   ],
   "source": [
    "import cvxpy as cp\n",
    "import numpy as np\n",
    "import json\n",
    "\n",
    "\n",
    "with open(\"matrices.csv\", \"r\") as fp:\n",
    "    matrices = json.load(fp)\n",
    "\n",
    "supply = matrices[\"supply\"]\n",
    "demand = matrices[\"demand\"]\n",
    "buy_price = matrices[\"buy\"]\n",
    "sell_price = matrices[\"sell\"]\n",
    "com_idx = matrices[\"com_idx\"]\n",
    "loc_idx = matrices[\"loc_idx\"]\n",
    "\n",
    "T = 3\n",
    "C = cp.Parameter(nonneg=True)\n",
    "M = len(loc_idx)\n",
    "N = len(com_idx)\n",
    "\n",
    "# Theta\n",
    "B = [cp.Parameter((N, M), nonneg=True) for i in range(T)]\n",
    "S = [cp.Parameter((N, M), nonneg=True) for i in range(T)]\n",
    "D = [cp.Parameter((N, M), nonneg=True) for i in range(T)]\n",
    "P = [cp.Parameter((N, M), nonneg=True) for i in range(T)]\n",
    "\n",
    "# r\n",
    "# (9)\n",
    "X = [cp.Variable((M, M), boolean=True) for i in range(T)]\n",
    "L = [cp.Variable((N, M), nonneg=True) for i in range(T)]\n",
    "I = [cp.Variable((N, M), nonneg=True) for i in range(T)]\n",
    "\n",
    "\n",
    "# L(d(O), theta)\n",
    "objective = cp.Minimize(sum([cp.sum(cp.multiply(cp.minimum(P[i], I[i]), B[i])) for i in range(T)]) -\n",
    "                        sum([cp.sum(cp.multiply(cp.minimum(D[i], L[i]), S[i])) for i in range(T)]))\n",
    "\n",
    "constraints = []\n",
    "epsilon = cp.Variable((M, T))\n",
    "\n",
    "# Path Constraints\n",
    "# (1)\n",
    "for i in range(M):\n",
    "    for t in range(1, T):\n",
    "        c = cp.sum(X[t][i]) <= cp.minimum(1, cp.sum(X[t-1][:, i]))\n",
    "        constraints.append(c)\n",
    "\n",
    "# (2)\n",
    "for t in range(1, T):\n",
    "    constraints.append(cp.sum(X[t]) == 1)\n",
    "\n",
    "# (3)\n",
    "for j in range(M):\n",
    "        constraints.append(\n",
    "            sum([cp.sum(X[t][:, j]) for t in range(T)]) <= 1\n",
    "        )\n",
    "\n",
    "# (4)\n",
    "constraints.append(cp.sum(X[t][0]) == 1)\n",
    "\n",
    "# Buy/Sell Location Constraints\n",
    "# (5)\n",
    "for t in range(1, T):\n",
    "    for j in range(M):\n",
    "        constraints.append(\n",
    "            cp.sum(X[t-1][:, j]) + epsilon[j, t] == cp.sum(I[t][:, j]) + cp.sum(L[t][:, j])\n",
    "        )\n",
    "        \n",
    "# (6)\n",
    "for t in range(T):\n",
    "    for j in range(M):\n",
    "        constraints.append(-1 <= epsilon[j, t])\n",
    "        constraints.append(epsilon[j, t] <= cp.sum(I[t][:, j]) + cp.sum(L[t][:, j]) - 1)\n",
    "\n",
    "# Buy/Sell Amount Constraints\n",
    "# (7)\n",
    "for t in range(T):\n",
    "    constraints.append(\n",
    "        sum([cp.sum(I[n]) for n in range(t)]) -\n",
    "        sum([cp.sum(L[n]) for n in range(t)]) <= C\n",
    "    )\n",
    "\n",
    "# (8)\n",
    "for g in range(N):\n",
    "    for t in range(1, T):\n",
    "        constraints.append(\n",
    "            cp.sum(L[t]) <= sum([I[n][g] for n in range(t)]) -\n",
    "                            sum([L[n][g] for n in range(t - 1)])\n",
    "        )\n",
    "\n",
    "prob = cp.Problem(objective, constraints)\n",
    "C.value = 600\n",
    "for t in range(T):\n",
    "    B[t].value = np.array(buy_price)\n",
    "    S[t].value = np.array(sell_price)\n",
    "    D[t].value = np.array(demand)\n",
    "    P[t].value = np.array(supply)\n",
    "prob.solve(solver=cp.GLPK_MI)"
   ],
   "metadata": {
    "collapsed": false,
    "pycharm": {
     "name": "#%%\n"
    }
   }
  }
 ],
 "metadata": {
  "kernelspec": {
   "display_name": "Python 3",
   "language": "python",
   "name": "python3"
  },
  "language_info": {
   "codemirror_mode": {
    "name": "ipython",
    "version": 2
   },
   "file_extension": ".py",
   "mimetype": "text/x-python",
   "name": "python",
   "nbconvert_exporter": "python",
   "pygments_lexer": "ipython2",
   "version": "2.7.6"
  }
 },
 "nbformat": 4,
 "nbformat_minor": 0
}